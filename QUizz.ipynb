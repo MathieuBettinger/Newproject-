{
 "cells": [
  {
   "cell_type": "code",
   "execution_count": 12,
   "metadata": {},
   "outputs": [
    {
     "ename": "IndentationError",
     "evalue": "expected an indented block (<ipython-input-12-42e003650554>, line 11)",
     "output_type": "error",
     "traceback": [
      "\u001b[0;36m  File \u001b[0;32m\"<ipython-input-12-42e003650554>\"\u001b[0;36m, line \u001b[0;32m11\u001b[0m\n\u001b[0;31m    a-=1\u001b[0m\n\u001b[0m    ^\u001b[0m\n\u001b[0;31mIndentationError\u001b[0m\u001b[0;31m:\u001b[0m expected an indented block\n"
     ]
    }
   ],
   "source": [
    "def quizz():\n",
    "    \n",
    "    a=3\n",
    "    print('voici votre quiz, vous avez 3 chances ')\n",
    "    \n",
    "    if a > 0:\n",
    "    \n",
    "        France = float(input('Combien de fois la France a gagné la world cup?'))\n",
    "        print()\n",
    "        while France != 2:\n",
    "            a-=1\n",
    "            print ('Too bad! that is not the correct answer')\n",
    "            print ('il te reste {} answers '.format(a))\n",
    "            if a ==0:\n",
    "                print ('il te reste {} answers, tu as losse connard '.format(a))\n",
    "                break\n",
    "            else:\n",
    "                France = float(input('Combien de fois la France a gagné la world cup?'))\n",
    "    else:\n",
    "        print ('Good job! This is the right answer')\n",
    "  \n",
    "    \n",
    "    if a > 0:\n",
    "\n",
    "        apple = input(\"Quand a été fondé Apple ?\")\n",
    "        print()\n",
    "        while apple != \"1976\":\n",
    "            a-=1\n",
    "        print(\"Dommage, ce n'est pas la bonne réponse...\")\n",
    "        print ('il te reste {} answers '.format(a))\n",
    "        if a==0:\n",
    "            print ('il te reste {} answers, tu as losse connard '.format(a))\n",
    "            break\n",
    "            \n",
    "        apple = input('Quand a été fondé Apple ?')\n",
    "    else:\n",
    "        print(\"Bravo, c'est la bonne réponse !\")\n",
    "        \n",
    "    if a >0:\n",
    "        \n",
    "        spacex = input(\"Qui a fondé SpaceX ?\")\n",
    "        \n",
    "        \n",
    "    while spacex != \"Elon Musk\":\n",
    "        a-=1\n",
    "        print(\"Dommage, ce n'est pas la bonne réponse...\")\n",
    "        print ('il te reste {} answers '.format(a))\n",
    "        if a==0:\n",
    "            print ('il te reste {} answers, tu as losse connard '.format(a))\n",
    "            break\n",
    "            \n",
    "        spacex = input(\"Qui a fondé SpaceX ?\")\n",
    "    else:\n",
    "        print(\"Bravo, c'est la bonne réponse, tu as win  !\")\n",
    "        \n",
    "quizz()\n",
    "\n",
    "\n",
    "\n"
   ]
  },
  {
   "cell_type": "code",
   "execution_count": 5,
   "metadata": {},
   "outputs": [
    {
     "name": "stdout",
     "output_type": "stream",
     "text": [
      "Voici notre quiz, tu as trois chances !\n"
     ]
    },
    {
     "name": "stdin",
     "output_type": "stream",
     "text": [
      "Combien de fois la France a gagné la coupe du monde ?  4\n"
     ]
    },
    {
     "name": "stdout",
     "output_type": "stream",
     "text": [
      "Dommage ! Il te reste 2 chances\n"
     ]
    },
    {
     "name": "stdin",
     "output_type": "stream",
     "text": [
      "Combien de fois la France a gagné la coupe du monde ?  6\n"
     ]
    },
    {
     "name": "stdout",
     "output_type": "stream",
     "text": [
      "Dommage ! Il te reste 1 chances\n"
     ]
    },
    {
     "name": "stdin",
     "output_type": "stream",
     "text": [
      "Combien de fois la France a gagné la coupe du monde ?  6\n"
     ]
    },
    {
     "name": "stdout",
     "output_type": "stream",
     "text": [
      "Dommage ! Il te reste 0 chances\n",
      "Oh non ! Tu as perdu le jeu...\n"
     ]
    }
   ],
   "source": [
    "nb_de_chances = 3\n",
    "\n",
    "print(\"Voici notre quiz, tu as trois chances !\")\n",
    "\n",
    "if nb_de_chances > 0:\n",
    "    question1= input(\"Combien de fois la France a gagné la coupe du monde ? \")\n",
    "    while question1 != \"2\":\n",
    "        nb_de_chances -= 1\n",
    "        print(\"Dommage ! Il te reste {} chances\".format(nb_de_chances))\n",
    "        if nb_de_chances == 0:\n",
    "            print(\"Oh non ! Tu as perdu le jeu...\")\n",
    "            break\n",
    "        question1 = input(\"Combien de fois la France a gagné la coupe du monde ? \")\n",
    "\n",
    "if nb_de_chances > 0:\n",
    "    question2 = input(\"Quand a été fondé Apple ? \")\n",
    "    while question2 != \"1976\":\n",
    "        nb_de_chances -=1\n",
    "        print(\"Dommage ! Il te reste {} chances\".format(nb_de_chances))\n",
    "        if nb_de_chances == 0:\n",
    "            print(\"Oh non ! Tu as perdu le jeu...\")\n",
    "            break\n",
    "        question2 = input(\"Quand a été fondé Apple ? \")\n",
    "\n",
    "\n",
    "if nb_de_chances > 0:\n",
    "    question3 = input(\"Qui a fondé SpaceX ? \")\n",
    "    question3 = question3.lower()\n",
    "    while question3 != \"elon musk\":\n",
    "        nb_de_chances -=1\n",
    "        print(\"Dommage ! Il te reste {} chances\".format(nb_de_chances))\n",
    "        if nb_de_chances == 0:\n",
    "            print(\"Oh non ! Tu as perdu le jeu...\")\n",
    "            break\n",
    "        question3 = input(\"Qui a fondé SpaceX ? \")\n",
    "        question3 = question3.lower()\n",
    "\n",
    "if nb_de_chances > 0:\n",
    "    print(\"Bravo ! Tu as gagné le quiz !\")"
   ]
  }
 ],
 "metadata": {
  "kernelspec": {
   "display_name": "Python 3",
   "language": "python",
   "name": "python3"
  },
  "language_info": {
   "codemirror_mode": {
    "name": "ipython",
    "version": 3
   },
   "file_extension": ".py",
   "mimetype": "text/x-python",
   "name": "python",
   "nbconvert_exporter": "python",
   "pygments_lexer": "ipython3",
   "version": "3.8.5"
  }
 },
 "nbformat": 4,
 "nbformat_minor": 4
}

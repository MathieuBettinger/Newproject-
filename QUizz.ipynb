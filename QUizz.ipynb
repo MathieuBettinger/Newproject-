{
 "cells": [
  {
   "cell_type": "code",
   "execution_count": 13,
   "metadata": {},
   "outputs": [
    {
     "name": "stdout",
     "output_type": "stream",
     "text": [
      "voici votre quiz, vous avez 3 chances \n"
     ]
    },
    {
     "name": "stdin",
     "output_type": "stream",
     "text": [
      "Combien de fois la France a gagné la world cup? 2\n"
     ]
    },
    {
     "name": "stdout",
     "output_type": "stream",
     "text": [
      "\n"
     ]
    },
    {
     "name": "stdin",
     "output_type": "stream",
     "text": [
      "Quand a été fondé Apple ? 5\n"
     ]
    },
    {
     "name": "stdout",
     "output_type": "stream",
     "text": [
      "\n",
      "Dommage, ce n'est pas la bonne réponse...\n",
      "il te reste 2 answers \n"
     ]
    },
    {
     "name": "stdin",
     "output_type": "stream",
     "text": [
      "Quand a été fondé Apple ? 4\n"
     ]
    },
    {
     "name": "stdout",
     "output_type": "stream",
     "text": [
      "Dommage, ce n'est pas la bonne réponse...\n",
      "il te reste 1 answers \n"
     ]
    },
    {
     "name": "stdin",
     "output_type": "stream",
     "text": [
      "Quand a été fondé Apple ? 3\n"
     ]
    },
    {
     "name": "stdout",
     "output_type": "stream",
     "text": [
      "Dommage, ce n'est pas la bonne réponse...\n",
      "il te reste 0 answers \n",
      "il te reste 0 answers, tu as losse connard \n",
      "Bravo, c'est la bonne réponse, tu as win  !\n"
     ]
    }
   ],
   "source": [
    "def quizz():\n",
    "    \n",
    "    a=3\n",
    "    print('voici votre quiz, vous avez 3 chances ')\n",
    "    \n",
    "    if a > 0:\n",
    "    \n",
    "        France = float(input('Combien de fois la France a gagné la world cup?'))\n",
    "        print()\n",
    "        while France != 2:\n",
    "            a-=1\n",
    "            print ('Too bad! that is not the correct answer')\n",
    "            print ('il te reste {} answers '.format(a))\n",
    "            if a ==0:\n",
    "                print ('il te reste {} answers, tu as losse connard '.format(a))\n",
    "                break\n",
    "            else:\n",
    "                France = float(input('Combien de fois la France a gagné la world cup?'))\n",
    "    else:\n",
    "        print ('Good job! This is the right answer')\n",
    "  \n",
    "    \n",
    "    if a > 0:\n",
    "\n",
    "        apple = input(\"Quand a été fondé Apple ?\")\n",
    "        print()\n",
    "        while apple != \"1976\":\n",
    "            a-=1\n",
    "            print(\"Dommage, ce n'est pas la bonne réponse...\")\n",
    "            print ('il te reste {} answers '.format(a))\n",
    "            if a==0:\n",
    "                print ('il te reste {} answers, tu as losse connard '.format(a))\n",
    "                break\n",
    "            \n",
    "            apple = input('Quand a été fondé Apple ?')\n",
    "    else:\n",
    "        print(\"Bravo, c'est la bonne réponse !\")\n",
    "        \n",
    "    if a >0:\n",
    "        \n",
    "        spacex = input(\"Qui a fondé SpaceX ?\")        \n",
    "        \n",
    "        while spacex != \"Elon Musk\":\n",
    "            a-=1\n",
    "            print(\"Dommage, ce n'est pas la bonne réponse...\")\n",
    "            print ('il te reste {} answers '.format(a))\n",
    "            if a==0:\n",
    "                print ('il te reste {} answers, tu as losse connard '.format(a))\n",
    "                break\n",
    "            \n",
    "            spacex = input(\"Qui a fondé SpaceX ?\")\n",
    "    else:\n",
    "        print(\"Bravo, c'est la bonne réponse, tu as win  !\")\n",
    "        \n",
    "quizz()\n",
    "\n",
    "\n",
    "\n"
   ]
  }
 ],
 "metadata": {
  "kernelspec": {
   "display_name": "Python 3",
   "language": "python",
   "name": "python3"
  },
  "language_info": {
   "codemirror_mode": {
    "name": "ipython",
    "version": 3
   },
   "file_extension": ".py",
   "mimetype": "text/x-python",
   "name": "python",
   "nbconvert_exporter": "python",
   "pygments_lexer": "ipython3",
   "version": "3.8.5"
  }
 },
 "nbformat": 4,
 "nbformat_minor": 4
}

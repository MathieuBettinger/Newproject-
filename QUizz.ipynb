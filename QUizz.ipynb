{
 "cells": [
  {
   "cell_type": "code",
   "execution_count": 4,
   "metadata": {},
   "outputs": [
    {
     "name": "stdout",
     "output_type": "stream",
     "text": [
      "je mappelle lovni\n"
     ]
    }
   ],
   "source": [
    "def quizz():\n",
    "    print('voici votre quiz')\n",
    "    France = float(input('Combien de fois la France a gagné la world cup?'))\n",
    "    print()\n",
    "    \n",
    "    while France != 2:\n",
    "        print ('Too bad! that is not the correct answer')\n",
    "        France = float(input('Combien de fois la France a gagné la world cup?'))\n",
    "    else:\n",
    "        print ('Good job! This is the right answer')\n",
    "                 \n",
    "    print()\n",
    "                 \n",
    "    apple = input(\"Quand a été fondé Apple ?\")\n",
    "    print()\n",
    "\n",
    "    while apple != \"1976\":\n",
    "        print(\"Dommage, ce n'est pas la bonne réponse...\")\n",
    "        apple = input('Quand a été fondé Apple ?')\n",
    "    else:\n",
    "        print(\"Bravo, c'est la bonne réponse !\")\n",
    "   \n",
    "    spacex = input(\"Qui a fondé SpaceX ?\")\n",
    "    print()\n",
    "    while spacex != \"Elon Musk\":\n",
    "        print(\"Dommage, ce n'est pas la bonne réponse...\")\n",
    "        spacex = input(\"Qui a fondé SpaceX ?\")\n",
    "    else:\n",
    "        print(\"Bravo, c'est la bonne réponse !\")\n",
    "        \n",
    "quizz()"
   ]
  }
 ],
 "metadata": {
  "kernelspec": {
   "display_name": "Python 3",
   "language": "python",
   "name": "python3"
  },
  "language_info": {
   "codemirror_mode": {
    "name": "ipython",
    "version": 3
   },
   "file_extension": ".py",
   "mimetype": "text/x-python",
   "name": "python",
   "nbconvert_exporter": "python",
   "pygments_lexer": "ipython3",
   "version": "3.8.5"
  }
 },
 "nbformat": 4,
 "nbformat_minor": 4
}
